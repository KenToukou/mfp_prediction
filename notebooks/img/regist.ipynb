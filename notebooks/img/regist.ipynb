{
 "cells": [
  {
   "cell_type": "code",
   "execution_count": 1,
   "metadata": {},
   "outputs": [
    {
     "data": {
      "text/plain": [
       "'/Users/toukouken/Documents/Hori/M1/mfp_prediction_api'"
      ]
     },
     "execution_count": 1,
     "metadata": {},
     "output_type": "execute_result"
    }
   ],
   "source": [
    "import os\n",
    "os.chdir(\"../..\")\n",
    "os.getcwd()"
   ]
  },
  {
   "cell_type": "code",
   "execution_count": 2,
   "metadata": {},
   "outputs": [],
   "source": [
    "from logic.img_logic.generate_img import ImgGenerator\n",
    "from service.img.img_service import ImgService\n",
    "from service.db.db_service import DBService\n",
    "from logic.db_logic.db_connect import get_db_inf_from_yaml"
   ]
  },
  {
   "cell_type": "code",
   "execution_count": 3,
   "metadata": {},
   "outputs": [],
   "source": [
    "db_inf_dict = get_db_inf_from_yaml()\n",
    "db_url = db_inf_dict[\"mfp_db\"].get(\"db_url\",\"\")"
   ]
  },
  {
   "cell_type": "code",
   "execution_count": 4,
   "metadata": {},
   "outputs": [],
   "source": [
    "db_api = DBService(db_url)\n",
    "all_pore_inf_df = db_api.get_all_pore_position_inf()"
   ]
  },
  {
   "cell_type": "markdown",
   "metadata": {},
   "source": [
    "基本情報"
   ]
  },
  {
   "cell_type": "code",
   "execution_count": 7,
   "metadata": {},
   "outputs": [
    {
     "name": "stdout",
     "output_type": "stream",
     "text": [
      "already exist.\n",
      "already exist.\n",
      "already exist.\n",
      "already exist.\n",
      "already exist.\n",
      "already exist.\n",
      "already exist.\n",
      "already exist.\n",
      "already exist.\n",
      "already exist.\n",
      "already exist.\n",
      "already exist.\n",
      "already exist.\n",
      "already exist.\n",
      "already exist.\n",
      "already exist.\n",
      "already exist.\n",
      "already exist.\n",
      "already exist.\n",
      "already exist.\n",
      "already exist.\n",
      "already exist.\n",
      "already exist.\n",
      "already exist.\n",
      "already exist.\n",
      "already exist.\n",
      "already exist.\n",
      "already exist.\n",
      "already exist.\n",
      "already exist.\n",
      "already exist.\n",
      "already exist.\n"
     ]
    }
   ],
   "source": [
    "for index, row in all_pore_inf_df.iterrows():\n",
    "    im_creator = ImgGenerator(\n",
    "    Lu=150,\n",
    "    Lx=450,\n",
    "    Ly=450,\n",
    "    pixel=2400,\n",
    "    shape=row[\"shape\"],\n",
    "    porosity=row[\"porosity\"],\n",
    "    misalignment=row[\"normalized_misalignment\"],\n",
    "    angle=0\n",
    "    )\n",
    "    ImgService.regist_img(\n",
    "        db_api=db_api,\n",
    "        img_class=im_creator\n",
    "    )"
   ]
  },
  {
   "cell_type": "code",
   "execution_count": null,
   "metadata": {},
   "outputs": [],
   "source": []
  }
 ],
 "metadata": {
  "kernelspec": {
   "display_name": "mfp_prediction_api-yIJgBquW",
   "language": "python",
   "name": "python3"
  },
  "language_info": {
   "codemirror_mode": {
    "name": "ipython",
    "version": 3
   },
   "file_extension": ".py",
   "mimetype": "text/x-python",
   "name": "python",
   "nbconvert_exporter": "python",
   "pygments_lexer": "ipython3",
   "version": "3.11.6"
  }
 },
 "nbformat": 4,
 "nbformat_minor": 2
}
