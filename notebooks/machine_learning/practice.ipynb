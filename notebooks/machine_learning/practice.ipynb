{
 "cells": [
  {
   "cell_type": "markdown",
   "metadata": {},
   "source": [
    "# Torchの練習"
   ]
  },
  {
   "cell_type": "markdown",
   "metadata": {},
   "source": [
    "1 : 学習の流れ"
   ]
  },
  {
   "cell_type": "code",
   "execution_count": 1,
   "metadata": {},
   "outputs": [],
   "source": [
    "import torch.nn as nn\n",
    "import torch\n",
    "from torch import optim\n",
    "import plotly.graph_objects as go"
   ]
  },
  {
   "cell_type": "code",
   "execution_count": 2,
   "metadata": {},
   "outputs": [],
   "source": [
    "\n",
    "class Net(nn.Module):\n",
    "    def __init__(self):\n",
    "        super(Net, self).__init__()\n",
    "        # nn.liner(入力次元, 出力次元)\n",
    "        self.linl = nn.Linear(in_features=10, out_features=10,bias=False)\n",
    "    \n",
    "    def forward(self,x):\n",
    "        x = self.linl(x)\n",
    "        return x\n",
    "    \n",
    "def main(opt_conf = \"\"):\n",
    "    loss_list = []\n",
    "    x = torch.randn(1,10)\n",
    "    w = torch.randn(1,1)\n",
    "    y = torch.mul(w,x) + 2\n",
    "    net = Net()\n",
    "    criterion = nn.L1Loss()\n",
    "    # criterion = nn.MSELoss()\n",
    "    # 最適化関数\n",
    "    if opt_conf == \"sgd\":\n",
    "        optimizer = optim.SGD(net.parameters(), lr=0.1)\n",
    "    elif opt_conf == \"momentum_sgd\":\n",
    "        optimizer = optim.SGD(net.parameters(), lr=0.1, momentum=0.9)\n",
    "    elif opt_conf == \"adadelta\":\n",
    "        optimizer = optim.Adadelta(net.parameters(), rho=0.95, eps=1e-04)\n",
    "    elif opt_conf == \"adagrad\":\n",
    "        optimizer = optim.Adagrad(net.parameters())\n",
    "    elif opt_conf == \"adam\":\n",
    "        optimizer = optim.Adam(net.parameters(), lr=1e-1, betas=(0.9, 0.99), eps=1e-09)\n",
    "    elif opt_conf == \"rmsprop\":\n",
    "        optimizer = optim.RMSprop(net.parameters())\n",
    "\n",
    "    # 学習\n",
    "    for epoch in range(20):\n",
    "        optimizer.zero_grad()\n",
    "        \n",
    "        y_pred = net(x)\n",
    "        \n",
    "        loss = criterion(y_pred, y)\n",
    "        loss.backward()\n",
    "        \n",
    "        optimizer.step()\n",
    "        \n",
    "        loss_list.append(loss.data.item())\n",
    "\n",
    "    return loss_list"
   ]
  },
  {
   "cell_type": "code",
   "execution_count": 3,
   "metadata": {},
   "outputs": [],
   "source": [
    "def arrange_fig(fig: go.Figure):\n",
    "    # Configure the graph's title and axis labels\n",
    "    fig.update_layout(\n",
    "        height=600,\n",
    "        width=800,\n",
    "        template=\"plotly_white\",\n",
    "        title_font=dict(size=32),\n",
    "        xaxis_title_font=dict(family=\"Times New Roman\", size=32, color=\"black\"),\n",
    "        yaxis_title_font=dict(family=\"Times New Roman\", size=32, color=\"black\"),\n",
    "        xaxis=dict(\n",
    "            tickfont=dict(family=\"Times New Roman\", size=22, color=\"black\"),\n",
    "            title_standoff=10,\n",
    "            ticklen=10,  # 目盛線の長さ\n",
    "            tickwidth=2,  # 目盛線の太さ\n",
    "            tickcolor=\"black\",  # 目盛線の色\n",
    "            ticks=\"outside\",  # 内側に目盛線を表示\n",
    "        ),\n",
    "        yaxis=dict(\n",
    "            tickfont=dict(family=\"Times New Roman\", size=22, color=\"black\"),\n",
    "            title_standoff=5,\n",
    "            tickangle=0,  # 角度を調整（必要であれば変更）\n",
    "            automargin=True,  # 自動的にラベルの間隔を調整\n",
    "            ticklen=10,  # 目盛線の長さ\n",
    "            tickwidth=2,  # 目盛線の太さ\n",
    "            tickcolor=\"black\",  # 目盛線の色\n",
    "            ticks=\"outside\",  # 内側に目盛線を表示\n",
    "        ),\n",
    "        showlegend=True,\n",
    "        legend=dict(\n",
    "            x=0.95,\n",
    "            y=0.6,\n",
    "            xanchor=\"right\",\n",
    "            yanchor=\"bottom\",\n",
    "            font=dict(family=\"Times New Roman\", size=20, color=\"black\"),\n",
    "        ),\n",
    "        shapes=[\n",
    "            dict(\n",
    "                type=\"rect\",\n",
    "                xref=\"paper\",\n",
    "                yref=\"paper\",\n",
    "                x0=0,\n",
    "                y0=0,\n",
    "                x1=1,\n",
    "                y1=1,\n",
    "                line=dict(\n",
    "                    color=\"black\",\n",
    "                    width=2,\n",
    "                ),\n",
    "                fillcolor=\"rgba(0,0,0,0)\",\n",
    "            )\n",
    "        ],\n",
    "        margin=dict(l=100, r=100, b=100, t=100),\n",
    "    )\n",
    "    fig.update_xaxes(showgrid=False, zeroline=False)\n",
    "    fig.update_yaxes(showgrid=False, zeroline=False)\n",
    "    return fig"
   ]
  },
  {
   "cell_type": "code",
   "execution_count": 4,
   "metadata": {},
   "outputs": [
    {
     "data": {
      "application/vnd.plotly.v1+json": {
       "config": {
        "plotlyServerURL": "https://plot.ly"
       },
       "data": [
        {
         "mode": "lines",
         "name": "sgd",
         "type": "scatter",
         "y": [
          2.0436453819274902,
          1.9733238220214844,
          1.903002381324768,
          1.8326810598373413,
          1.762359619140625,
          1.6920382976531982,
          1.621716856956482,
          1.5513955354690552,
          1.4810740947723389,
          1.4107528924942017,
          1.3404313325881958,
          1.2701098918914795,
          1.1997884511947632,
          1.129467248916626,
          1.0591456890106201,
          0.9888243675231934,
          0.9189465641975403,
          0.8622458577156067,
          0.7923680543899536,
          0.7356674075126648
         ]
        },
        {
         "mode": "lines",
         "name": "momentum_sgd",
         "type": "scatter",
         "y": [
          3.0146567821502686,
          2.7993335723876953,
          2.3902194499969482,
          1.8474518060684204,
          1.3232241868972778,
          1.1670395135879517,
          0.9230353236198425,
          0.7836567163467407,
          0.7349750399589539,
          0.8267569541931152,
          1.039404273033142,
          1.0572227239608765,
          0.9580003619194031,
          0.8617073893547058,
          0.7446541786193848,
          0.4882434010505676,
          0.43133115768432617,
          0.4152997136116028,
          0.6178490519523621,
          0.759014904499054
         ]
        },
        {
         "mode": "lines",
         "name": "adadelta",
         "type": "scatter",
         "y": [
          2.360966205596924,
          2.0749411582946777,
          1.688315987586975,
          1.5624406337738037,
          1.2947461605072021,
          1.2163808345794678,
          0.9469016790390015,
          0.8670223355293274,
          0.5962215662002563,
          0.5589107275009155,
          0.3994094133377075,
          0.4058985710144043,
          0.31149017810821533,
          0.31772202253341675,
          0.22307558357715607,
          0.22908517718315125,
          0.21939794719219208,
          0.22990231215953827,
          0.22018513083457947,
          0.23066285252571106
         ]
        },
        {
         "mode": "lines",
         "name": "adam",
         "type": "scatter",
         "y": [
          2.0426723957061768,
          1.372218132019043,
          0.8431358337402344,
          0.47561997175216675,
          0.5091148018836975,
          0.5671178698539734,
          0.48971661925315857,
          0.3846350312232971,
          0.4349040985107422,
          0.47151070833206177,
          0.5044181942939758,
          0.4415852427482605,
          0.278065949678421,
          0.17704755067825317,
          0.25662466883659363,
          0.2975394129753113,
          0.28938937187194824,
          0.17912769317626953,
          0.20336489379405975,
          0.251181036233902
         ]
        },
        {
         "mode": "lines",
         "name": "rmsprop",
         "type": "scatter",
         "y": [
          1.5567554235458374,
          0.9059612154960632,
          0.6131440997123718,
          0.48453083634376526,
          0.3181617856025696,
          0.26280051469802856,
          0.20075002312660217,
          0.1815723478794098,
          0.13118989765644073,
          0.13488809764385223,
          0.11549898236989975,
          0.12596261501312256,
          0.10921239852905273,
          0.11312828958034515,
          0.10058166831731796,
          0.10753384977579117,
          0.09604425728321075,
          0.10038681328296661,
          0.0903245359659195,
          0.09616448730230331
         ]
        }
       ],
       "layout": {
        "height": 600,
        "legend": {
         "font": {
          "color": "black",
          "family": "Times New Roman",
          "size": 20
         },
         "x": 0.95,
         "xanchor": "right",
         "y": 0.6,
         "yanchor": "bottom"
        },
        "margin": {
         "b": 100,
         "l": 100,
         "r": 100,
         "t": 100
        },
        "shapes": [
         {
          "fillcolor": "rgba(0,0,0,0)",
          "line": {
           "color": "black",
           "width": 2
          },
          "type": "rect",
          "x0": 0,
          "x1": 1,
          "xref": "paper",
          "y0": 0,
          "y1": 1,
          "yref": "paper"
         }
        ],
        "showlegend": true,
        "template": {
         "data": {
          "bar": [
           {
            "error_x": {
             "color": "#2a3f5f"
            },
            "error_y": {
             "color": "#2a3f5f"
            },
            "marker": {
             "line": {
              "color": "white",
              "width": 0.5
             },
             "pattern": {
              "fillmode": "overlay",
              "size": 10,
              "solidity": 0.2
             }
            },
            "type": "bar"
           }
          ],
          "barpolar": [
           {
            "marker": {
             "line": {
              "color": "white",
              "width": 0.5
             },
             "pattern": {
              "fillmode": "overlay",
              "size": 10,
              "solidity": 0.2
             }
            },
            "type": "barpolar"
           }
          ],
          "carpet": [
           {
            "aaxis": {
             "endlinecolor": "#2a3f5f",
             "gridcolor": "#C8D4E3",
             "linecolor": "#C8D4E3",
             "minorgridcolor": "#C8D4E3",
             "startlinecolor": "#2a3f5f"
            },
            "baxis": {
             "endlinecolor": "#2a3f5f",
             "gridcolor": "#C8D4E3",
             "linecolor": "#C8D4E3",
             "minorgridcolor": "#C8D4E3",
             "startlinecolor": "#2a3f5f"
            },
            "type": "carpet"
           }
          ],
          "choropleth": [
           {
            "colorbar": {
             "outlinewidth": 0,
             "ticks": ""
            },
            "type": "choropleth"
           }
          ],
          "contour": [
           {
            "colorbar": {
             "outlinewidth": 0,
             "ticks": ""
            },
            "colorscale": [
             [
              0,
              "#0d0887"
             ],
             [
              0.1111111111111111,
              "#46039f"
             ],
             [
              0.2222222222222222,
              "#7201a8"
             ],
             [
              0.3333333333333333,
              "#9c179e"
             ],
             [
              0.4444444444444444,
              "#bd3786"
             ],
             [
              0.5555555555555556,
              "#d8576b"
             ],
             [
              0.6666666666666666,
              "#ed7953"
             ],
             [
              0.7777777777777778,
              "#fb9f3a"
             ],
             [
              0.8888888888888888,
              "#fdca26"
             ],
             [
              1,
              "#f0f921"
             ]
            ],
            "type": "contour"
           }
          ],
          "contourcarpet": [
           {
            "colorbar": {
             "outlinewidth": 0,
             "ticks": ""
            },
            "type": "contourcarpet"
           }
          ],
          "heatmap": [
           {
            "colorbar": {
             "outlinewidth": 0,
             "ticks": ""
            },
            "colorscale": [
             [
              0,
              "#0d0887"
             ],
             [
              0.1111111111111111,
              "#46039f"
             ],
             [
              0.2222222222222222,
              "#7201a8"
             ],
             [
              0.3333333333333333,
              "#9c179e"
             ],
             [
              0.4444444444444444,
              "#bd3786"
             ],
             [
              0.5555555555555556,
              "#d8576b"
             ],
             [
              0.6666666666666666,
              "#ed7953"
             ],
             [
              0.7777777777777778,
              "#fb9f3a"
             ],
             [
              0.8888888888888888,
              "#fdca26"
             ],
             [
              1,
              "#f0f921"
             ]
            ],
            "type": "heatmap"
           }
          ],
          "histogram": [
           {
            "marker": {
             "pattern": {
              "fillmode": "overlay",
              "size": 10,
              "solidity": 0.2
             }
            },
            "type": "histogram"
           }
          ],
          "histogram2d": [
           {
            "colorbar": {
             "outlinewidth": 0,
             "ticks": ""
            },
            "colorscale": [
             [
              0,
              "#0d0887"
             ],
             [
              0.1111111111111111,
              "#46039f"
             ],
             [
              0.2222222222222222,
              "#7201a8"
             ],
             [
              0.3333333333333333,
              "#9c179e"
             ],
             [
              0.4444444444444444,
              "#bd3786"
             ],
             [
              0.5555555555555556,
              "#d8576b"
             ],
             [
              0.6666666666666666,
              "#ed7953"
             ],
             [
              0.7777777777777778,
              "#fb9f3a"
             ],
             [
              0.8888888888888888,
              "#fdca26"
             ],
             [
              1,
              "#f0f921"
             ]
            ],
            "type": "histogram2d"
           }
          ],
          "histogram2dcontour": [
           {
            "colorbar": {
             "outlinewidth": 0,
             "ticks": ""
            },
            "colorscale": [
             [
              0,
              "#0d0887"
             ],
             [
              0.1111111111111111,
              "#46039f"
             ],
             [
              0.2222222222222222,
              "#7201a8"
             ],
             [
              0.3333333333333333,
              "#9c179e"
             ],
             [
              0.4444444444444444,
              "#bd3786"
             ],
             [
              0.5555555555555556,
              "#d8576b"
             ],
             [
              0.6666666666666666,
              "#ed7953"
             ],
             [
              0.7777777777777778,
              "#fb9f3a"
             ],
             [
              0.8888888888888888,
              "#fdca26"
             ],
             [
              1,
              "#f0f921"
             ]
            ],
            "type": "histogram2dcontour"
           }
          ],
          "mesh3d": [
           {
            "colorbar": {
             "outlinewidth": 0,
             "ticks": ""
            },
            "type": "mesh3d"
           }
          ],
          "parcoords": [
           {
            "line": {
             "colorbar": {
              "outlinewidth": 0,
              "ticks": ""
             }
            },
            "type": "parcoords"
           }
          ],
          "pie": [
           {
            "automargin": true,
            "type": "pie"
           }
          ],
          "scatter": [
           {
            "fillpattern": {
             "fillmode": "overlay",
             "size": 10,
             "solidity": 0.2
            },
            "type": "scatter"
           }
          ],
          "scatter3d": [
           {
            "line": {
             "colorbar": {
              "outlinewidth": 0,
              "ticks": ""
             }
            },
            "marker": {
             "colorbar": {
              "outlinewidth": 0,
              "ticks": ""
             }
            },
            "type": "scatter3d"
           }
          ],
          "scattercarpet": [
           {
            "marker": {
             "colorbar": {
              "outlinewidth": 0,
              "ticks": ""
             }
            },
            "type": "scattercarpet"
           }
          ],
          "scattergeo": [
           {
            "marker": {
             "colorbar": {
              "outlinewidth": 0,
              "ticks": ""
             }
            },
            "type": "scattergeo"
           }
          ],
          "scattergl": [
           {
            "marker": {
             "colorbar": {
              "outlinewidth": 0,
              "ticks": ""
             }
            },
            "type": "scattergl"
           }
          ],
          "scattermap": [
           {
            "marker": {
             "colorbar": {
              "outlinewidth": 0,
              "ticks": ""
             }
            },
            "type": "scattermap"
           }
          ],
          "scattermapbox": [
           {
            "marker": {
             "colorbar": {
              "outlinewidth": 0,
              "ticks": ""
             }
            },
            "type": "scattermapbox"
           }
          ],
          "scatterpolar": [
           {
            "marker": {
             "colorbar": {
              "outlinewidth": 0,
              "ticks": ""
             }
            },
            "type": "scatterpolar"
           }
          ],
          "scatterpolargl": [
           {
            "marker": {
             "colorbar": {
              "outlinewidth": 0,
              "ticks": ""
             }
            },
            "type": "scatterpolargl"
           }
          ],
          "scatterternary": [
           {
            "marker": {
             "colorbar": {
              "outlinewidth": 0,
              "ticks": ""
             }
            },
            "type": "scatterternary"
           }
          ],
          "surface": [
           {
            "colorbar": {
             "outlinewidth": 0,
             "ticks": ""
            },
            "colorscale": [
             [
              0,
              "#0d0887"
             ],
             [
              0.1111111111111111,
              "#46039f"
             ],
             [
              0.2222222222222222,
              "#7201a8"
             ],
             [
              0.3333333333333333,
              "#9c179e"
             ],
             [
              0.4444444444444444,
              "#bd3786"
             ],
             [
              0.5555555555555556,
              "#d8576b"
             ],
             [
              0.6666666666666666,
              "#ed7953"
             ],
             [
              0.7777777777777778,
              "#fb9f3a"
             ],
             [
              0.8888888888888888,
              "#fdca26"
             ],
             [
              1,
              "#f0f921"
             ]
            ],
            "type": "surface"
           }
          ],
          "table": [
           {
            "cells": {
             "fill": {
              "color": "#EBF0F8"
             },
             "line": {
              "color": "white"
             }
            },
            "header": {
             "fill": {
              "color": "#C8D4E3"
             },
             "line": {
              "color": "white"
             }
            },
            "type": "table"
           }
          ]
         },
         "layout": {
          "annotationdefaults": {
           "arrowcolor": "#2a3f5f",
           "arrowhead": 0,
           "arrowwidth": 1
          },
          "autotypenumbers": "strict",
          "coloraxis": {
           "colorbar": {
            "outlinewidth": 0,
            "ticks": ""
           }
          },
          "colorscale": {
           "diverging": [
            [
             0,
             "#8e0152"
            ],
            [
             0.1,
             "#c51b7d"
            ],
            [
             0.2,
             "#de77ae"
            ],
            [
             0.3,
             "#f1b6da"
            ],
            [
             0.4,
             "#fde0ef"
            ],
            [
             0.5,
             "#f7f7f7"
            ],
            [
             0.6,
             "#e6f5d0"
            ],
            [
             0.7,
             "#b8e186"
            ],
            [
             0.8,
             "#7fbc41"
            ],
            [
             0.9,
             "#4d9221"
            ],
            [
             1,
             "#276419"
            ]
           ],
           "sequential": [
            [
             0,
             "#0d0887"
            ],
            [
             0.1111111111111111,
             "#46039f"
            ],
            [
             0.2222222222222222,
             "#7201a8"
            ],
            [
             0.3333333333333333,
             "#9c179e"
            ],
            [
             0.4444444444444444,
             "#bd3786"
            ],
            [
             0.5555555555555556,
             "#d8576b"
            ],
            [
             0.6666666666666666,
             "#ed7953"
            ],
            [
             0.7777777777777778,
             "#fb9f3a"
            ],
            [
             0.8888888888888888,
             "#fdca26"
            ],
            [
             1,
             "#f0f921"
            ]
           ],
           "sequentialminus": [
            [
             0,
             "#0d0887"
            ],
            [
             0.1111111111111111,
             "#46039f"
            ],
            [
             0.2222222222222222,
             "#7201a8"
            ],
            [
             0.3333333333333333,
             "#9c179e"
            ],
            [
             0.4444444444444444,
             "#bd3786"
            ],
            [
             0.5555555555555556,
             "#d8576b"
            ],
            [
             0.6666666666666666,
             "#ed7953"
            ],
            [
             0.7777777777777778,
             "#fb9f3a"
            ],
            [
             0.8888888888888888,
             "#fdca26"
            ],
            [
             1,
             "#f0f921"
            ]
           ]
          },
          "colorway": [
           "#636efa",
           "#EF553B",
           "#00cc96",
           "#ab63fa",
           "#FFA15A",
           "#19d3f3",
           "#FF6692",
           "#B6E880",
           "#FF97FF",
           "#FECB52"
          ],
          "font": {
           "color": "#2a3f5f"
          },
          "geo": {
           "bgcolor": "white",
           "lakecolor": "white",
           "landcolor": "white",
           "showlakes": true,
           "showland": true,
           "subunitcolor": "#C8D4E3"
          },
          "hoverlabel": {
           "align": "left"
          },
          "hovermode": "closest",
          "mapbox": {
           "style": "light"
          },
          "paper_bgcolor": "white",
          "plot_bgcolor": "white",
          "polar": {
           "angularaxis": {
            "gridcolor": "#EBF0F8",
            "linecolor": "#EBF0F8",
            "ticks": ""
           },
           "bgcolor": "white",
           "radialaxis": {
            "gridcolor": "#EBF0F8",
            "linecolor": "#EBF0F8",
            "ticks": ""
           }
          },
          "scene": {
           "xaxis": {
            "backgroundcolor": "white",
            "gridcolor": "#DFE8F3",
            "gridwidth": 2,
            "linecolor": "#EBF0F8",
            "showbackground": true,
            "ticks": "",
            "zerolinecolor": "#EBF0F8"
           },
           "yaxis": {
            "backgroundcolor": "white",
            "gridcolor": "#DFE8F3",
            "gridwidth": 2,
            "linecolor": "#EBF0F8",
            "showbackground": true,
            "ticks": "",
            "zerolinecolor": "#EBF0F8"
           },
           "zaxis": {
            "backgroundcolor": "white",
            "gridcolor": "#DFE8F3",
            "gridwidth": 2,
            "linecolor": "#EBF0F8",
            "showbackground": true,
            "ticks": "",
            "zerolinecolor": "#EBF0F8"
           }
          },
          "shapedefaults": {
           "line": {
            "color": "#2a3f5f"
           }
          },
          "ternary": {
           "aaxis": {
            "gridcolor": "#DFE8F3",
            "linecolor": "#A2B1C6",
            "ticks": ""
           },
           "baxis": {
            "gridcolor": "#DFE8F3",
            "linecolor": "#A2B1C6",
            "ticks": ""
           },
           "bgcolor": "white",
           "caxis": {
            "gridcolor": "#DFE8F3",
            "linecolor": "#A2B1C6",
            "ticks": ""
           }
          },
          "title": {
           "x": 0.05
          },
          "xaxis": {
           "automargin": true,
           "gridcolor": "#EBF0F8",
           "linecolor": "#EBF0F8",
           "ticks": "",
           "title": {
            "standoff": 15
           },
           "zerolinecolor": "#EBF0F8",
           "zerolinewidth": 2
          },
          "yaxis": {
           "automargin": true,
           "gridcolor": "#EBF0F8",
           "linecolor": "#EBF0F8",
           "ticks": "",
           "title": {
            "standoff": 15
           },
           "zerolinecolor": "#EBF0F8",
           "zerolinewidth": 2
          }
         }
        },
        "title": {
         "font": {
          "size": 32
         },
         "text": "Loss Comparison for Different Optimizers"
        },
        "width": 800,
        "xaxis": {
         "showgrid": false,
         "tickcolor": "black",
         "tickfont": {
          "color": "black",
          "family": "Times New Roman",
          "size": 22
         },
         "ticklen": 10,
         "ticks": "outside",
         "tickwidth": 2,
         "title": {
          "font": {
           "color": "black",
           "family": "Times New Roman",
           "size": 32
          },
          "standoff": 10,
          "text": "Epochs"
         },
         "zeroline": false
        },
        "yaxis": {
         "automargin": true,
         "showgrid": false,
         "tickangle": 0,
         "tickcolor": "black",
         "tickfont": {
          "color": "black",
          "family": "Times New Roman",
          "size": 22
         },
         "ticklen": 10,
         "ticks": "outside",
         "tickwidth": 2,
         "title": {
          "font": {
           "color": "black",
           "family": "Times New Roman",
           "size": 32
          },
          "standoff": 5,
          "text": "Loss"
         },
         "zeroline": false
        }
       }
      }
     },
     "metadata": {},
     "output_type": "display_data"
    }
   ],
   "source": [
    "import plotly.graph_objects as go\n",
    "\n",
    "def plot_loss_comparison(losss_dict):\n",
    "    fig = go.Figure()\n",
    "\n",
    "    # 各最適化手法の損失をプロット\n",
    "    for key, loss_values in losss_dict.items():\n",
    "        fig.add_trace(go.Scatter(y=loss_values, mode='lines', name=key))\n",
    "\n",
    "    # レイアウト設定\n",
    "    fig.update_layout(\n",
    "        title=\"Loss Comparison for Different Optimizers\",\n",
    "        xaxis_title=\"Epochs\",\n",
    "        yaxis_title=\"Loss\",\n",
    "        xaxis=dict(showgrid=True),\n",
    "        yaxis=dict(showgrid=True),\n",
    "        template=\"plotly_white\"\n",
    "    )\n",
    "\n",
    "    # arrange_fig を適用（定義されている場合）\n",
    "    if \"arrange_fig\" in globals():\n",
    "        fig = arrange_fig(fig)\n",
    "\n",
    "    return fig\n",
    "\n",
    "# lossの比較\n",
    "\n",
    "# 最適化関数の結果を格納する辞書\n",
    "losss_dict = {\n",
    "    \"sgd\": [],\n",
    "    \"momentum_sgd\": [],\n",
    "    \"adadelta\": [],\n",
    "    \"adam\": [],\n",
    "    \"rmsprop\": []\n",
    "}\n",
    "\n",
    "# 各最適化手法の損失を計算\n",
    "for key in losss_dict.keys():\n",
    "    losss_dict[key] = main(key)\n",
    "\n",
    "# 関数を使ってグラフを作成\n",
    "fig = plot_loss_comparison(losss_dict)\n",
    "\n",
    "# グラフを表示\n",
    "fig.show()\n"
   ]
  },
  {
   "cell_type": "markdown",
   "metadata": {},
   "source": [
    "# 基本的なニューラルネットワーク作成"
   ]
  },
  {
   "cell_type": "code",
   "execution_count": 6,
   "metadata": {},
   "outputs": [
    {
     "name": "stderr",
     "output_type": "stream",
     "text": [
      "100.0%\n"
     ]
    },
    {
     "name": "stdout",
     "output_type": "stream",
     "text": [
      "Epoch [1/50], Loss: 0.0299, val_loss: 0.0280, val_acc: 0.3572\n",
      "Epoch [2/50], Loss: 0.0273, val_loss: 0.0264, val_acc: 0.3955\n",
      "Epoch [3/50], Loss: 0.0262, val_loss: 0.0248, val_acc: 0.4351\n",
      "Epoch [4/50], Loss: 0.0256, val_loss: 0.0253, val_acc: 0.4119\n",
      "Epoch [5/50], Loss: 0.0251, val_loss: 0.0239, val_acc: 0.4608\n",
      "Epoch [6/50], Loss: 0.0247, val_loss: 0.0237, val_acc: 0.4599\n",
      "Epoch [7/50], Loss: 0.0242, val_loss: 0.0238, val_acc: 0.4530\n",
      "Epoch [8/50], Loss: 0.0238, val_loss: 0.0233, val_acc: 0.4741\n",
      "Epoch [9/50], Loss: 0.0236, val_loss: 0.0232, val_acc: 0.4763\n",
      "Epoch [10/50], Loss: 0.0234, val_loss: 0.0228, val_acc: 0.4732\n",
      "Epoch [11/50], Loss: 0.0231, val_loss: 0.0221, val_acc: 0.4944\n",
      "Epoch [12/50], Loss: 0.0227, val_loss: 0.0225, val_acc: 0.4920\n",
      "Epoch [13/50], Loss: 0.0225, val_loss: 0.0227, val_acc: 0.4789\n",
      "Epoch [14/50], Loss: 0.0223, val_loss: 0.0222, val_acc: 0.4897\n",
      "Epoch [15/50], Loss: 0.0221, val_loss: 0.0216, val_acc: 0.5135\n",
      "Epoch [16/50], Loss: 0.0220, val_loss: 0.0216, val_acc: 0.5118\n",
      "Epoch [17/50], Loss: 0.0219, val_loss: 0.0217, val_acc: 0.5054\n",
      "Epoch [18/50], Loss: 0.0217, val_loss: 0.0217, val_acc: 0.5026\n",
      "Epoch [19/50], Loss: 0.0214, val_loss: 0.0218, val_acc: 0.5010\n",
      "Epoch [20/50], Loss: 0.0214, val_loss: 0.0216, val_acc: 0.5078\n",
      "Epoch [21/50], Loss: 0.0213, val_loss: 0.0218, val_acc: 0.5042\n",
      "Epoch [22/50], Loss: 0.0212, val_loss: 0.0213, val_acc: 0.5159\n",
      "Epoch [23/50], Loss: 0.0212, val_loss: 0.0209, val_acc: 0.5225\n",
      "Epoch [24/50], Loss: 0.0209, val_loss: 0.0217, val_acc: 0.4976\n",
      "Epoch [25/50], Loss: 0.0208, val_loss: 0.0212, val_acc: 0.5147\n",
      "Epoch [26/50], Loss: 0.0207, val_loss: 0.0211, val_acc: 0.5209\n",
      "Epoch [27/50], Loss: 0.0206, val_loss: 0.0211, val_acc: 0.5174\n",
      "Epoch [28/50], Loss: 0.0205, val_loss: 0.0213, val_acc: 0.5134\n",
      "Epoch [29/50], Loss: 0.0202, val_loss: 0.0211, val_acc: 0.5224\n",
      "Epoch [30/50], Loss: 0.0203, val_loss: 0.0207, val_acc: 0.5247\n",
      "Epoch [31/50], Loss: 0.0203, val_loss: 0.0207, val_acc: 0.5253\n",
      "Epoch [32/50], Loss: 0.0202, val_loss: 0.0209, val_acc: 0.5208\n",
      "Epoch [33/50], Loss: 0.0201, val_loss: 0.0211, val_acc: 0.5201\n",
      "Epoch [34/50], Loss: 0.0201, val_loss: 0.0208, val_acc: 0.5307\n",
      "Epoch [35/50], Loss: 0.0200, val_loss: 0.0204, val_acc: 0.5388\n",
      "Epoch [36/50], Loss: 0.0199, val_loss: 0.0212, val_acc: 0.5210\n",
      "Epoch [37/50], Loss: 0.0199, val_loss: 0.0204, val_acc: 0.5324\n",
      "Epoch [38/50], Loss: 0.0198, val_loss: 0.0214, val_acc: 0.5142\n",
      "Epoch [39/50], Loss: 0.0198, val_loss: 0.0215, val_acc: 0.5188\n",
      "Epoch [40/50], Loss: 0.0196, val_loss: 0.0205, val_acc: 0.5312\n",
      "Epoch [41/50], Loss: 0.0195, val_loss: 0.0208, val_acc: 0.5253\n",
      "Epoch [42/50], Loss: 0.0193, val_loss: 0.0207, val_acc: 0.5322\n",
      "Epoch [43/50], Loss: 0.0195, val_loss: 0.0205, val_acc: 0.5314\n",
      "Epoch [44/50], Loss: 0.0193, val_loss: 0.0206, val_acc: 0.5203\n",
      "Epoch [45/50], Loss: 0.0192, val_loss: 0.0205, val_acc: 0.5295\n",
      "Epoch [46/50], Loss: 0.0191, val_loss: 0.0203, val_acc: 0.5433\n",
      "Epoch [47/50], Loss: 0.0191, val_loss: 0.0208, val_acc: 0.5229\n",
      "Epoch [48/50], Loss: 0.0191, val_loss: 0.0203, val_acc: 0.5302\n",
      "Epoch [49/50], Loss: 0.0190, val_loss: 0.0208, val_acc: 0.5292\n",
      "Epoch [50/50], Loss: 0.0190, val_loss: 0.0206, val_acc: 0.5276\n"
     ]
    },
    {
     "data": {
      "image/png": "[encoded data removed]",
      "text/plain": [
       "<Figure size 640x480 with 1 Axes>"
      ]
     },
     "metadata": {},
     "output_type": "display_data"
    },
    {
     "data": {
      "image/png": "[encoded data removed]",
      "text/plain": [
       "<Figure size 640x480 with 1 Axes>"
      ]
     },
     "metadata": {},
     "output_type": "display_data"
    }
   ],
   "source": [
    "import torch\n",
    "import torch.nn as nn\n",
    "import torch.optim as optim\n",
    "import torch.nn.functional as F\n",
    "import torchvision\n",
    "import torchvision.transforms as transforms\n",
    "from torch.utils.data import DataLoader\n",
    "import matplotlib.pyplot as plt\n",
    "import numpy as np\n",
    "import ssl\n",
    "import certifi\n",
    "\n",
    "ssl._create_default_https_context = lambda: ssl.create_default_context(cafile=certifi.where())\n",
    "\n",
    "# CIFAR-10データセットのダウンロードとロード\n",
    "transform = transforms.Compose([\n",
    "    transforms.ToTensor()\n",
    "])\n",
    "\n",
    "train_dataset = torchvision.datasets.CIFAR10(root='./data', train=True, transform=transform, download=True)\n",
    "test_dataset = torchvision.datasets.CIFAR10(root='./data', train=False, transform=transform, download=True)\n",
    "\n",
    "train_loader = DataLoader(dataset=train_dataset, batch_size=64, shuffle=True, num_workers=2)\n",
    "test_loader = DataLoader(dataset=test_dataset, batch_size=64, shuffle=False, num_workers=2)\n",
    "\n",
    "# MLPNet モデルの定義\n",
    "class MLPNet(nn.Module):\n",
    "    def __init__(self, num_classes=10):\n",
    "        super(MLPNet, self).__init__()\n",
    "        self.fc1 = nn.Linear(32 * 32 * 3, 600)\n",
    "        self.fc2 = nn.Linear(600, 600)\n",
    "        self.fc3 = nn.Linear(600, num_classes)\n",
    "        self.dropout1 = nn.Dropout(0.2)\n",
    "        self.dropout2 = nn.Dropout(0.2)\n",
    "    \n",
    "    def forward(self, x):\n",
    "        x = F.relu(self.fc1(x))\n",
    "        x = self.dropout1(x)\n",
    "        x = F.relu(self.fc2(x))\n",
    "        x = self.dropout2(x)\n",
    "        x = self.fc3(x)\n",
    "        return x\n",
    "\n",
    "# デバイスの設定\n",
    "device = torch.device(\"cuda\" if torch.cuda.is_available() else \"cpu\")\n",
    "net = MLPNet().to(device)\n",
    "\n",
    "# 損失関数と最適化関数の設定\n",
    "criterion = nn.CrossEntropyLoss()\n",
    "optimizer = optim.SGD(net.parameters(), lr=0.01, momentum=0.9, weight_decay=5e-4)\n",
    "\n",
    "# 訓練の実行\n",
    "num_epochs = 50\n",
    "train_loss_list, train_acc_list, val_loss_list, val_acc_list = [], [], [], []\n",
    "\n",
    "for epoch in range(num_epochs):\n",
    "    net.train()\n",
    "    train_loss, train_acc = 0, 0\n",
    "    \n",
    "    for images, labels in train_loader:\n",
    "        images = images.view(-1, 32*32*3).to(device)\n",
    "        labels = labels.to(device)\n",
    "        \n",
    "        optimizer.zero_grad()\n",
    "        outputs = net(images)\n",
    "        loss = criterion(outputs, labels)\n",
    "        loss.backward()\n",
    "        optimizer.step()\n",
    "        \n",
    "        train_loss += loss.item()\n",
    "        train_acc += (outputs.max(1)[1] == labels).sum().item()\n",
    "    \n",
    "    avg_train_loss = train_loss / len(train_loader.dataset)\n",
    "    avg_train_acc = train_acc / len(train_loader.dataset)\n",
    "    \n",
    "    # 検証フェーズ\n",
    "    net.eval()\n",
    "    val_loss, val_acc = 0, 0\n",
    "    with torch.no_grad():\n",
    "        for images, labels in test_loader:\n",
    "            images = images.view(-1, 32*32*3).to(device)\n",
    "            labels = labels.to(device)\n",
    "            outputs = net(images)\n",
    "            loss = criterion(outputs, labels)\n",
    "            val_loss += loss.item()\n",
    "            val_acc += (outputs.max(1)[1] == labels).sum().item()\n",
    "    \n",
    "    avg_val_loss = val_loss / len(test_loader.dataset)\n",
    "    avg_val_acc = val_acc / len(test_loader.dataset)\n",
    "    \n",
    "    print(f\"Epoch [{epoch+1}/{num_epochs}], Loss: {avg_train_loss:.4f}, val_loss: {avg_val_loss:.4f}, val_acc: {avg_val_acc:.4f}\")\n",
    "    \n",
    "    train_loss_list.append(avg_train_loss)\n",
    "    train_acc_list.append(avg_train_acc)\n",
    "    val_loss_list.append(avg_val_loss)\n",
    "    val_acc_list.append(avg_val_acc)\n",
    "\n",
    "# 結果のプロット\n",
    "plt.figure()\n",
    "plt.plot(range(num_epochs), train_loss_list, label='train_loss', color='blue', linestyle='-')\n",
    "plt.plot(range(num_epochs), val_loss_list, label='val_loss', color='green', linestyle='--')\n",
    "plt.legend()\n",
    "plt.xlabel('epoch')\n",
    "plt.ylabel('loss')\n",
    "plt.title('Training and validation loss')\n",
    "plt.grid()\n",
    "plt.show()\n",
    "\n",
    "plt.figure()\n",
    "plt.plot(range(num_epochs), train_acc_list, label='train_acc', color='blue', linestyle='-')\n",
    "plt.plot(range(num_epochs), val_acc_list, label='val_acc', color='green', linestyle='--')\n",
    "plt.legend()\n",
    "plt.xlabel('epoch')\n",
    "plt.ylabel('accuracy')\n",
    "plt.title('Training and validation accuracy')\n",
    "plt.grid()\n",
    "plt.show()\n"
   ]
  }
 ],
 "metadata": {
  "kernelspec": {
   "display_name": "mfp_prediction_api-yIJgBquW",
   "language": "python",
   "name": "python3"
  },
  "language_info": {
   "codemirror_mode": {
    "name": "ipython",
    "version": 3
   },
   "file_extension": ".py",
   "mimetype": "text/x-python",
   "name": "python",
   "nbconvert_exporter": "python",
   "pygments_lexer": "ipython3",
   "version": "3.11.6"
  }
 },
 "nbformat": 4,
 "nbformat_minor": 2
}
