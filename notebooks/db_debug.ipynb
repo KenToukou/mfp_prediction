{
 "cells": [
  {
   "cell_type": "code",
   "execution_count": 1,
   "metadata": {},
   "outputs": [
    {
     "data": {
      "text/plain": [
       "'/Users/toukouken/Documents/Hori/M1/mfp_prediction_api'"
      ]
     },
     "execution_count": 1,
     "metadata": {},
     "output_type": "execute_result"
    }
   ],
   "source": [
    "import os\n",
    "os.chdir(\"..\")\n",
    "os.getcwd()"
   ]
  },
  {
   "cell_type": "code",
   "execution_count": 2,
   "metadata": {},
   "outputs": [
    {
     "name": "stderr",
     "output_type": "stream",
     "text": [
      "/Users/toukouken/.local/share/virtualenvs/mfp_prediction_api-yIJgBquW/lib/python3.11/site-packages/pydantic/_internal/_config.py:345: UserWarning: Valid config keys have changed in V2:\n",
      "* 'orm_mode' has been renamed to 'from_attributes'\n",
      "  warnings.warn(message, UserWarning)\n"
     ]
    }
   ],
   "source": [
    "from logic.db_logic.db_connect import get_db_inf_from_yaml,get_db_session\n",
    "from logic.db_logic.db_initialize import create_db\n",
    "import pandas as pd\n",
    "from repositories import PorosityRepository, ShapeRepository, NormalizedMisalignmentRepository, PorePositionRepository\n",
    "from logic.db_logic.db_connect import get_db_session\n",
    "from schemas.input_schema import PorositySchema,ShapeSchema, NormalizedMisalignmentSchema"
   ]
  },
  {
   "cell_type": "code",
   "execution_count": 3,
   "metadata": {},
   "outputs": [],
   "source": [
    "db_inf_dict = get_db_inf_from_yaml()\n",
    "db_url = db_inf_dict[\"mfp_db\"].get(\"db_url\",\"\")"
   ]
  },
  {
   "cell_type": "code",
   "execution_count": null,
   "metadata": {},
   "outputs": [
    {
     "name": "stdout",
     "output_type": "stream",
     "text": [
      "Successfully created the db\n"
     ]
    }
   ],
   "source": [
    "# create_db(db_url)"
   ]
  },
  {
   "cell_type": "code",
   "execution_count": 25,
   "metadata": {},
   "outputs": [],
   "source": [
    "from sqlalchemy import text\n",
    "query = text(\"\"\"SELECT * FROM shape\"\"\")"
   ]
  },
  {
   "cell_type": "code",
   "execution_count": 26,
   "metadata": {},
   "outputs": [],
   "source": [
    "with get_db_session(db_url) as session:\n",
    "    result = session.execute(query)\n",
    "    response = result.fetchall()\n",
    "    # Get column names from the result\n",
    "    columns = result.keys()\n",
    "    \n",
    "    # Convert the response to a pandas DataFrame\n",
    "    df = pd.DataFrame(response, columns=columns)"
   ]
  },
  {
   "cell_type": "code",
   "execution_count": 27,
   "metadata": {},
   "outputs": [
    {
     "data": {
      "text/html": [
       "<div>\n",
       "<style scoped>\n",
       "    .dataframe tbody tr th:only-of-type {\n",
       "        vertical-align: middle;\n",
       "    }\n",
       "\n",
       "    .dataframe tbody tr th {\n",
       "        vertical-align: top;\n",
       "    }\n",
       "\n",
       "    .dataframe thead th {\n",
       "        text-align: right;\n",
       "    }\n",
       "</style>\n",
       "<table border=\"1\" class=\"dataframe\">\n",
       "  <thead>\n",
       "    <tr style=\"text-align: right;\">\n",
       "      <th></th>\n",
       "      <th>id</th>\n",
       "      <th>shape</th>\n",
       "    </tr>\n",
       "  </thead>\n",
       "  <tbody>\n",
       "    <tr>\n",
       "      <th>0</th>\n",
       "      <td>1</td>\n",
       "      <td>circle</td>\n",
       "    </tr>\n",
       "    <tr>\n",
       "      <th>1</th>\n",
       "      <td>2</td>\n",
       "      <td>triangle</td>\n",
       "    </tr>\n",
       "    <tr>\n",
       "      <th>2</th>\n",
       "      <td>3</td>\n",
       "      <td>square</td>\n",
       "    </tr>\n",
       "  </tbody>\n",
       "</table>\n",
       "</div>"
      ],
      "text/plain": [
       "   id     shape\n",
       "0   1    circle\n",
       "1   2  triangle\n",
       "2   3    square"
      ]
     },
     "execution_count": 27,
     "metadata": {},
     "output_type": "execute_result"
    }
   ],
   "source": [
    "df"
   ]
  },
  {
   "cell_type": "markdown",
   "metadata": {},
   "source": [
    "# 細孔の基本情報を登録"
   ]
  },
  {
   "cell_type": "markdown",
   "metadata": {},
   "source": [
    "空隙率を登録"
   ]
  },
  {
   "cell_type": "code",
   "execution_count": null,
   "metadata": {},
   "outputs": [
    {
     "name": "stdout",
     "output_type": "stream",
     "text": [
      "Success!\n"
     ]
    }
   ],
   "source": [
    "# with get_db_session(db_url) as test_db:\n",
    "#     porosity = PorositySchema(\n",
    "#         porosity=0.598\n",
    "#     )\n",
    "#     porosity_repo = PorosityRepository(test_db)\n",
    "#     porosity_repo.regist_porosity(porosity=porosity)"
   ]
  },
  {
   "cell_type": "markdown",
   "metadata": {},
   "source": [
    "細孔形状を登録"
   ]
  },
  {
   "cell_type": "code",
   "execution_count": null,
   "metadata": {},
   "outputs": [
    {
     "name": "stdout",
     "output_type": "stream",
     "text": [
      "Success!\n"
     ]
    }
   ],
   "source": [
    "# with get_db_session(db_url) as test_db:\n",
    "#     shape = ShapeSchema(\n",
    "#         shape=\"square\"\n",
    "#     )\n",
    "#     shape_repo = ShapeRepository(test_db)\n",
    "#     shape_repo.regist_shape(shape=shape)"
   ]
  },
  {
   "cell_type": "markdown",
   "metadata": {},
   "source": [
    "不整合度を登録"
   ]
  },
  {
   "cell_type": "code",
   "execution_count": null,
   "metadata": {},
   "outputs": [
    {
     "name": "stdout",
     "output_type": "stream",
     "text": [
      "Success!\n"
     ]
    }
   ],
   "source": [
    "# with get_db_session(db_url) as test_db:\n",
    "#     normalized_misalignment = NormalizedMisalignmentSchema(\n",
    "#         normalized_misalignment = 0.35\n",
    "#     )\n",
    "#     normalized_misalignment_repo = NormalizedMisalignmentRepository(test_db)\n",
    "#     normalized_misalignment_repo.regist_normalized_misalignment(normalized_misalignment=normalized_misalignment)"
   ]
  }
 ],
 "metadata": {
  "kernelspec": {
   "display_name": "mfp_prediction_api-yIJgBquW",
   "language": "python",
   "name": "python3"
  },
  "language_info": {
   "codemirror_mode": {
    "name": "ipython",
    "version": 3
   },
   "file_extension": ".py",
   "mimetype": "text/x-python",
   "name": "python",
   "nbconvert_exporter": "python",
   "pygments_lexer": "ipython3",
   "version": "3.11.6"
  }
 },
 "nbformat": 4,
 "nbformat_minor": 2
}
