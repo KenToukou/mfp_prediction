{
 "cells": [
  {
   "cell_type": "code",
   "execution_count": 1,
   "metadata": {},
   "outputs": [
    {
     "data": {
      "text/plain": [
       "'/Users/toukouken/Documents/Hori/M1/mfp_prediction_api'"
      ]
     },
     "execution_count": 1,
     "metadata": {},
     "output_type": "execute_result"
    }
   ],
   "source": [
    "import os\n",
    "os.chdir(\"..\")\n",
    "os.getcwd()"
   ]
  },
  {
   "cell_type": "code",
   "execution_count": 2,
   "metadata": {},
   "outputs": [
    {
     "name": "stderr",
     "output_type": "stream",
     "text": [
      "/Users/toukouken/.local/share/virtualenvs/mfp_prediction_api-yIJgBquW/lib/python3.11/site-packages/pydantic/_internal/_config.py:345: UserWarning: Valid config keys have changed in V2:\n",
      "* 'orm_mode' has been renamed to 'from_attributes'\n",
      "  warnings.warn(message, UserWarning)\n"
     ]
    }
   ],
   "source": [
    "import pandas as pd\n",
    "from logic.db_logic.db_connect import get_db_inf_from_yaml\n",
    "from logic.db_logic.db_initialize import create_db\n",
    "import pandas as pd\n",
    "from repositories import PorosityRepository, ShapeRepository, NormalizedMisalignmentRepository, PorePositionRepository\n",
    "from logic.db_logic.db_connect import get_db_session\n"
   ]
  },
  {
   "cell_type": "code",
   "execution_count": 3,
   "metadata": {},
   "outputs": [],
   "source": [
    "DB_URL = get_db_inf_from_yaml()[\"mfp_db\"].get(\"db_url\",\"\")"
   ]
  },
  {
   "cell_type": "code",
   "execution_count": 4,
   "metadata": {},
   "outputs": [],
   "source": [
    "def post_df(db_url:str,df:pd.DataFrame, porosity:float, shape:str, normalized_misalignment:float):\n",
    "    with get_db_session(db_url) as session:\n",
    "        pore_info_repository = PorePositionRepository(session)\n",
    "        porosity_repo = PorosityRepository(session)\n",
    "        shape_repo = ShapeRepository(session)\n",
    "        normalized_misalignment_repo = NormalizedMisalignmentRepository(session)\n",
    "        porosity_id = porosity_repo.get_id_by_porosity(porosity)\n",
    "        shape_id = shape_repo.get_id_by_shape(shape)\n",
    "        normalized_misalignment_id = normalized_misalignment_repo.get_id_by_normalized_misalignment(normalized_misalignment)\n",
    "        pore_info_id = pore_info_repository.get_id_by_porosity_info(\n",
    "                porosity_id=porosity_id,\n",
    "                shape_id=shape_id,\n",
    "                normalized_misalignment_id = normalized_misalignment_id\n",
    "            )\n",
    "        if type(pore_info_id) is not int:\n",
    "            pore_info_repository.regist_pore_position(\n",
    "                porosity_id=porosity_id,\n",
    "                shape_id=shape_id,\n",
    "                normalized_misalignment_id = normalized_misalignment_id\n",
    "            )\n",
    "            \n",
    "            pore_info_id = pore_info_repository.get_id_by_porosity_info(\n",
    "                    porosity_id=porosity_id,\n",
    "                    shape_id=shape_id,\n",
    "                    normalized_misalignment_id = normalized_misalignment_id\n",
    "                )\n",
    "        df[\"pore_position_id\"] = pore_info_id\n",
    "\n",
    "        engine = session.bind\n",
    "        df.to_sql(\"mfp\",con=engine, if_exists=\"append\", index=False)"
   ]
  },
  {
   "cell_type": "code",
   "execution_count": 5,
   "metadata": {},
   "outputs": [],
   "source": [
    "shape_dict = {\n",
    "    \"円\":\"circle\",\n",
    "    \"正方形\":\"square\",\n",
    "    \"正三角形\":\"triangle\",\n",
    "}"
   ]
  },
  {
   "cell_type": "code",
   "execution_count": 6,
   "metadata": {},
   "outputs": [],
   "source": [
    "def register_df():\n",
    "    misalignment = 0\n",
    "    porosity = 0\n",
    "    shape = \"\"\n",
    "    folder_name = \"data\"\n",
    "    for misalignment_folder in os.listdir(\"./data\"):\n",
    "        if \"misalignment\" in misalignment_folder:\n",
    "            misalignment_folder_name = folder_name + f\"/{misalignment_folder}\"\n",
    "            misalignment = misalignment_folder.split(\"_\")[1:]\n",
    "            misalignment = float(misalignment[0] + '.' + misalignment[1])\n",
    "            for porosity_folder in os.listdir(f\"./{misalignment_folder_name}\"):\n",
    "                if \".DS_Store\" not in porosity_folder:\n",
    "                    porosity_folder_name = misalignment_folder_name + f\"/{porosity_folder}\"\n",
    "                    porosiyl_list = porosity_folder.split(\"_\")[1:]\n",
    "                    porosity = float(porosiyl_list[0] + '.' + porosiyl_list[1])\n",
    "                    for shape_folder in os.listdir(f\"./{porosity_folder_name}\"):\n",
    "                        if \".DS_Store\" not in shape_folder:\n",
    "                            shape_folder_name = porosity_folder_name + f\"/{shape_folder}\"\n",
    "                            shape = shape_dict.get(shape_folder, \"\")\n",
    "                            for csv_file in os.listdir(f\"./{shape_folder_name}\"):\n",
    "                                if \".DS_Store\" not in csv_file:\n",
    "                                    file_path =  shape_folder_name + f\"/{csv_file}\"\n",
    "                                    df = pd.read_csv(file_path)\n",
    "                                    post_df(db_url=DB_URL,df=df,porosity=porosity,shape=shape,normalized_misalignment=misalignment)\n",
    "                                    print(\"登録完了\")"
   ]
  },
  {
   "cell_type": "markdown",
   "metadata": {},
   "source": [
    "# 一括でDBに登録"
   ]
  },
  {
   "cell_type": "code",
   "execution_count": null,
   "metadata": {},
   "outputs": [
    {
     "name": "stdout",
     "output_type": "stream",
     "text": [
      "Success!\n",
      "登録完了\n",
      "登録完了\n",
      "Success!\n",
      "登録完了\n",
      "登録完了\n",
      "Success!\n",
      "登録完了\n",
      "登録完了\n",
      "登録完了\n",
      "Success!\n",
      "登録完了\n",
      "登録完了\n",
      "Success!\n",
      "登録完了\n",
      "登録完了\n",
      "Success!\n",
      "登録完了\n",
      "登録完了\n",
      "Success!\n",
      "登録完了\n",
      "登録完了\n",
      "Success!\n",
      "登録完了\n",
      "Success!\n",
      "登録完了\n",
      "登録完了\n",
      "Success!\n",
      "登録完了\n",
      "登録完了\n",
      "Success!\n",
      "登録完了\n",
      "Success!\n",
      "登録完了\n",
      "Success!\n",
      "登録完了\n",
      "Success!\n",
      "登録完了\n",
      "Success!\n",
      "登録完了\n",
      "登録完了\n",
      "Success!\n",
      "登録完了\n",
      "Success!\n",
      "登録完了\n",
      "Success!\n",
      "登録完了\n",
      "登録完了\n",
      "Success!\n",
      "登録完了\n",
      "Success!\n",
      "登録完了\n",
      "登録完了\n",
      "Success!\n",
      "登録完了\n",
      "登録完了\n",
      "Success!\n",
      "登録完了\n",
      "登録完了\n",
      "Success!\n",
      "登録完了\n",
      "Success!\n",
      "登録完了\n",
      "登録完了\n",
      "Success!\n",
      "登録完了\n",
      "登録完了\n",
      "Success!\n",
      "登録完了\n",
      "登録完了\n",
      "Success!\n",
      "登録完了\n",
      "登録完了\n",
      "Success!\n",
      "登録完了\n",
      "登録完了\n",
      "Success!\n",
      "登録完了\n",
      "登録完了\n",
      "Success!\n",
      "登録完了\n",
      "登録完了\n",
      "Success!\n",
      "登録完了\n",
      "登録完了\n",
      "Success!\n",
      "登録完了\n",
      "登録完了\n"
     ]
    }
   ],
   "source": [
    "# register_df()"
   ]
  },
  {
   "cell_type": "code",
   "execution_count": null,
   "metadata": {},
   "outputs": [],
   "source": []
  }
 ],
 "metadata": {
  "kernelspec": {
   "display_name": "mfp_prediction_api-yIJgBquW",
   "language": "python",
   "name": "python3"
  },
  "language_info": {
   "codemirror_mode": {
    "name": "ipython",
    "version": 3
   },
   "file_extension": ".py",
   "mimetype": "text/x-python",
   "name": "python",
   "nbconvert_exporter": "python",
   "pygments_lexer": "ipython3",
   "version": "3.11.6"
  }
 },
 "nbformat": 4,
 "nbformat_minor": 2
}
